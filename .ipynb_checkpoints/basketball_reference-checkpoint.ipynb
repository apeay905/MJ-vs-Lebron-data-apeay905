{
 "cells": [
  {
   "cell_type": "code",
   "execution_count": 1,
   "id": "d73dc445",
   "metadata": {},
   "outputs": [],
   "source": [
    "import openpyxl\n",
    "from urllib.request import urlopen\n",
    "from bs4 import BeautifulSoup"
   ]
  },
  {
   "cell_type": "code",
   "execution_count": 2,
   "id": "ef5ceb89",
   "metadata": {},
   "outputs": [],
   "source": [
    "class NBA:\n",
    "    def getHeader(self):\n",
    "        headers = [] # list for storing headers\n",
    "        # use getText() to extract the text we need into a list\n",
    "        for text in self.soup.findAll('tr')[0].findAll('th'):\n",
    "            headers.append(text.getText())\n",
    "        headers = headers[1:]\n",
    "        return headers\n",
    " \n",
    "    def getStats(self):\n",
    "        rowsOfPlayers = self.soup.findAll('tr')[1:]\n",
    "        # creates a 2d list of all the players and their stats\n",
    "        player_stats = [[stats.getText() for stats in rowsOfPlayers[i].findAll('td')] for i in range(len(rowsOfPlayers))]\n",
    "        return player_stats\n",
    " \n",
    "    def statExcel(self):\n",
    "        year = input(\"Enter what year: \")\n",
    "        # URL page we will be scraping\n",
    "        url = 'https://www.basketball-reference.com/leagues/NBA_{}_per_game.html'.format(year)\n",
    "        # this is the HTML form the given url\n",
    "        html = urlopen(url)\n",
    "        # stores source html code in soup\n",
    "        self.soup = BeautifulSoup(html, 'html.parser')\n",
    "        wb = openpyxl.Workbook()\n",
    "        sheet = wb.active\n",
    "        sheet.title = 'PerGame' + str(year)\n",
    " \n",
    "        i = 1\n",
    "        for header in self.getHeader():\n",
    "            sheet.cell(row=1, column=i).value = header\n",
    "            i += 1\n",
    " \n",
    "        stats_2d_list = self.getStats()\n",
    "        x = 1\n",
    "        for r in stats_2d_list:\n",
    "            y = 1\n",
    "            x += 1\n",
    "            for item in r:\n",
    "                sheet.cell(row= x, column= y).value = item\n",
    "                y += 1\n",
    " \n",
    " \n",
    "        wb.save('nba{}to{}.xlsx'.format(str(int(year) - 1), year))"
   ]
  },
  {
   "cell_type": "code",
   "execution_count": 3,
   "id": "0e949d47",
   "metadata": {},
   "outputs": [],
   "source": [
    "nba_work = NBA()"
   ]
  },
  {
   "cell_type": "code",
   "execution_count": 36,
   "id": "51f2c47a",
   "metadata": {},
   "outputs": [
    {
     "name": "stdout",
     "output_type": "stream",
     "text": [
      "Enter what year: 2021\n"
     ]
    }
   ],
   "source": [
    "nba_work.statExcel()"
   ]
  },
  {
   "cell_type": "code",
   "execution_count": null,
   "id": "3ee870df",
   "metadata": {},
   "outputs": [],
   "source": []
  },
  {
   "cell_type": "code",
   "execution_count": null,
   "id": "cfe8488e",
   "metadata": {},
   "outputs": [],
   "source": []
  }
 ],
 "metadata": {
  "kernelspec": {
   "display_name": "Python 3",
   "language": "python",
   "name": "python3"
  },
  "language_info": {
   "codemirror_mode": {
    "name": "ipython",
    "version": 3
   },
   "file_extension": ".py",
   "mimetype": "text/x-python",
   "name": "python",
   "nbconvert_exporter": "python",
   "pygments_lexer": "ipython3",
   "version": "3.8.8"
  }
 },
 "nbformat": 4,
 "nbformat_minor": 5
}
