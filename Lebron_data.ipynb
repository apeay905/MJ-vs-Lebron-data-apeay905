{
 "cells": [
  {
   "cell_type": "code",
   "execution_count": 3,
   "id": "b690955a",
   "metadata": {},
   "outputs": [],
   "source": [
    "from urllib.request import urlopen\n",
    "import requests\n",
    "from bs4 import BeautifulSoup\n",
    "import pandas as pd"
   ]
  },
  {
   "cell_type": "code",
   "execution_count": 5,
   "id": "8c1e7a35",
   "metadata": {},
   "outputs": [],
   "source": [
    "url = 'https://www.basketball-reference.com/players/j/jamesle01.html'"
   ]
  },
  {
   "cell_type": "code",
   "execution_count": 6,
   "id": "74dba9fd",
   "metadata": {},
   "outputs": [],
   "source": [
    "html = urlopen(url)"
   ]
  },
  {
   "cell_type": "code",
   "execution_count": 7,
   "id": "8e9a722b",
   "metadata": {},
   "outputs": [],
   "source": [
    "soup = BeautifulSoup(html)"
   ]
  },
  {
   "cell_type": "code",
   "execution_count": 8,
   "id": "b9f5f79f",
   "metadata": {},
   "outputs": [
    {
     "data": {
      "text/plain": [
       "[<tr> <th aria-label=\"If listed as single number, the year the season ended.★ - Indicates All-Star for league.Only on regular season tables.\" class=\"poptip sort_default_asc center\" data-stat=\"season\" data-tip=\"If listed as single number, the year the season ended.&lt;br&gt;★ - Indicates All-Star for league.&lt;br&gt;Only on regular season tables.\" scope=\"col\">Season</th> <th aria-label=\"Player's age on February 1 of the season\" class=\"poptip sort_default_asc center\" data-stat=\"age\" data-tip=\"Player's age on February 1 of the season\" scope=\"col\">Age</th> <th aria-label=\"Team\" class=\"poptip sort_default_asc center\" data-stat=\"team_id\" data-tip=\"Team\" scope=\"col\">Tm</th> <th aria-label=\"League\" class=\"poptip sort_default_asc center\" data-stat=\"lg_id\" data-tip=\"League\" scope=\"col\">Lg</th> <th aria-label=\"Position\" class=\"poptip sort_default_asc center\" data-stat=\"pos\" data-tip=\"Position\" scope=\"col\">Pos</th> <th aria-label=\"Games\" class=\"poptip center\" data-stat=\"g\" data-tip=\"Games\" scope=\"col\">G</th> <th aria-label=\"Games Started\" class=\"poptip center\" data-stat=\"gs\" data-tip=\"Games Started\" scope=\"col\">GS</th> <th aria-label=\"Minutes Played Per Game\" class=\"poptip center\" data-stat=\"mp_per_g\" data-tip=\"Minutes Played Per Game\" scope=\"col\">MP</th> <th aria-label=\"Field Goals Per Game\" class=\"poptip center\" data-stat=\"fg_per_g\" data-tip=\"Field Goals Per Game\" scope=\"col\">FG</th> <th aria-label=\"Field Goal Attempts Per Game\" class=\"poptip center\" data-stat=\"fga_per_g\" data-tip=\"Field Goal Attempts Per Game\" scope=\"col\">FGA</th> <th aria-label=\"Field Goal Percentage\" class=\"poptip center\" data-stat=\"fg_pct\" data-tip=\"Field Goal Percentage\" scope=\"col\">FG%</th> <th aria-label=\"3-Point Field Goals Per Game\" class=\"poptip center\" data-stat=\"fg3_per_g\" data-tip=\"3-Point Field Goals Per Game\" scope=\"col\">3P</th> <th aria-label=\"3-Point Field Goal Attempts Per Game\" class=\"poptip center\" data-stat=\"fg3a_per_g\" data-tip=\"3-Point Field Goal Attempts Per Game\" scope=\"col\">3PA</th> <th aria-label=\"3-Point Field Goal Percentage\" class=\"poptip center\" data-stat=\"fg3_pct\" data-tip=\"3-Point Field Goal Percentage\" scope=\"col\">3P%</th> <th aria-label=\"2-Point Field Goals Per Game\" class=\"poptip center\" data-stat=\"fg2_per_g\" data-tip=\"2-Point Field Goals Per Game\" scope=\"col\">2P</th> <th aria-label=\"2-Point Field Goal Attempts Per Game\" class=\"poptip center\" data-stat=\"fg2a_per_g\" data-tip=\"2-Point Field Goal Attempts Per Game\" scope=\"col\">2PA</th> <th aria-label=\"2-Point Field Goal Percentage\" class=\"poptip center\" data-stat=\"fg2_pct\" data-tip=\"2-Point Field Goal Percentage\" scope=\"col\">2P%</th> <th aria-label=\"Effective Field Goal Percentage\" class=\"poptip center\" data-stat=\"efg_pct\" data-tip=\"&lt;strong&gt;Effective Field Goal Percentage&lt;/strong&gt;&lt;br&gt;This statistic adjusts for the fact that a 3-point field goal is worth one more point than a 2-point field goal.\" scope=\"col\">eFG%</th> <th aria-label=\"Free Throws Per Game\" class=\"poptip center\" data-stat=\"ft_per_g\" data-tip=\"Free Throws Per Game\" scope=\"col\">FT</th> <th aria-label=\"Free Throw Attempts Per Game\" class=\"poptip center\" data-stat=\"fta_per_g\" data-tip=\"Free Throw Attempts Per Game\" scope=\"col\">FTA</th> <th aria-label=\"Free Throw Percentage\" class=\"poptip center\" data-stat=\"ft_pct\" data-tip=\"Free Throw Percentage\" scope=\"col\">FT%</th> <th aria-label=\"Offensive Rebounds Per Game\" class=\"poptip center\" data-stat=\"orb_per_g\" data-tip=\"Offensive Rebounds Per Game\" scope=\"col\">ORB</th> <th aria-label=\"Defensive Rebounds Per Game\" class=\"poptip center\" data-stat=\"drb_per_g\" data-tip=\"Defensive Rebounds Per Game\" scope=\"col\">DRB</th> <th aria-label=\"Total Rebounds Per Game\" class=\"poptip center\" data-stat=\"trb_per_g\" data-tip=\"Total Rebounds Per Game\" scope=\"col\">TRB</th> <th aria-label=\"Assists Per Game\" class=\"poptip center\" data-stat=\"ast_per_g\" data-tip=\"Assists Per Game\" scope=\"col\">AST</th> <th aria-label=\"Steals Per Game\" class=\"poptip center\" data-stat=\"stl_per_g\" data-tip=\"Steals Per Game\" scope=\"col\">STL</th> <th aria-label=\"Blocks Per Game\" class=\"poptip center\" data-stat=\"blk_per_g\" data-tip=\"Blocks Per Game\" scope=\"col\">BLK</th> <th aria-label=\"Turnovers Per Game\" class=\"poptip center\" data-stat=\"tov_per_g\" data-tip=\"Turnovers Per Game\" scope=\"col\">TOV</th> <th aria-label=\"Personal Fouls Per Game\" class=\"poptip center\" data-stat=\"pf_per_g\" data-tip=\"Personal Fouls Per Game\" scope=\"col\">PF</th> <th aria-label=\"Points Per Game\" class=\"poptip center\" data-stat=\"pts_per_g\" data-tip=\"Points Per Game\" scope=\"col\">PTS</th> </tr>,\n",
       " <tr class=\"full_table\" id=\"per_game.2004\"><th class=\"left\" data-stat=\"season\" scope=\"row\"><a href=\"/players/j/jamesle01/gamelog/2004\">2003-04</a></th><td class=\"center\" data-stat=\"age\">19</td><td class=\"left\" data-stat=\"team_id\"><a href=\"/teams/CLE/2004.html\">CLE</a></td><td class=\"left\" data-stat=\"lg_id\"><a href=\"/leagues/NBA_2004.html\">NBA</a></td><td class=\"center\" data-stat=\"pos\">SG</td><td class=\"right\" data-stat=\"g\">79</td><td class=\"right\" data-stat=\"gs\">79</td><td class=\"right\" data-stat=\"mp_per_g\">39.5</td><td class=\"right\" data-stat=\"fg_per_g\">7.9</td><td class=\"right\" data-stat=\"fga_per_g\">18.9</td><td class=\"right\" data-stat=\"fg_pct\">.417</td><td class=\"right\" data-stat=\"fg3_per_g\">0.8</td><td class=\"right\" data-stat=\"fg3a_per_g\">2.7</td><td class=\"right\" data-stat=\"fg3_pct\">.290</td><td class=\"right\" data-stat=\"fg2_per_g\">7.1</td><td class=\"right\" data-stat=\"fg2a_per_g\">16.1</td><td class=\"right\" data-stat=\"fg2_pct\">.438</td><td class=\"right\" data-stat=\"efg_pct\">.438</td><td class=\"right\" data-stat=\"ft_per_g\">4.4</td><td class=\"right\" data-stat=\"fta_per_g\">5.8</td><td class=\"right\" data-stat=\"ft_pct\">.754</td><td class=\"right\" data-stat=\"orb_per_g\">1.3</td><td class=\"right\" data-stat=\"drb_per_g\">4.2</td><td class=\"right\" data-stat=\"trb_per_g\">5.5</td><td class=\"right\" data-stat=\"ast_per_g\">5.9</td><td class=\"right\" data-stat=\"stl_per_g\">1.6</td><td class=\"right\" data-stat=\"blk_per_g\">0.7</td><td class=\"right\" data-stat=\"tov_per_g\">3.5</td><td class=\"right\" data-stat=\"pf_per_g\">1.9</td><td class=\"right\" data-stat=\"pts_per_g\">20.9</td></tr>]"
      ]
     },
     "execution_count": 8,
     "metadata": {},
     "output_type": "execute_result"
    }
   ],
   "source": [
    "soup.findAll('tr', limit=2)"
   ]
  },
  {
   "cell_type": "code",
   "execution_count": 9,
   "id": "3417d360",
   "metadata": {},
   "outputs": [],
   "source": [
    "headers = [th.getText() for th in soup.findAll('tr', limit=2)[0].findAll('th')]"
   ]
  },
  {
   "cell_type": "code",
   "execution_count": 11,
   "id": "f11760b3",
   "metadata": {},
   "outputs": [
    {
     "data": {
      "text/plain": [
       "['Age',\n",
       " 'Tm',\n",
       " 'Lg',\n",
       " 'Pos',\n",
       " 'G',\n",
       " 'GS',\n",
       " 'MP',\n",
       " 'FG',\n",
       " 'FGA',\n",
       " 'FG%',\n",
       " '3P',\n",
       " '3PA',\n",
       " '3P%',\n",
       " '2P',\n",
       " '2PA',\n",
       " '2P%',\n",
       " 'eFG%',\n",
       " 'FT',\n",
       " 'FTA',\n",
       " 'FT%',\n",
       " 'ORB',\n",
       " 'DRB',\n",
       " 'TRB',\n",
       " 'AST',\n",
       " 'STL',\n",
       " 'BLK',\n",
       " 'TOV',\n",
       " 'PF',\n",
       " 'PTS']"
      ]
     },
     "execution_count": 11,
     "metadata": {},
     "output_type": "execute_result"
    }
   ],
   "source": [
    "##Basketball Reference for the analysis\n",
    "headers = headers[1:]\n",
    "headers"
   ]
  },
  {
   "cell_type": "code",
   "execution_count": 12,
   "id": "3903fbe7",
   "metadata": {},
   "outputs": [],
   "source": [
    "# avoid the first header row\n",
    "rows = soup.findAll('tr')[1:]\n",
    "player_stats = [[td.getText() for td in rows[i].findAll('td')]\n",
    "            for i in range(len(rows))]"
   ]
  },
  {
   "cell_type": "code",
   "execution_count": 14,
   "id": "ecfe9cdf",
   "metadata": {},
   "outputs": [
    {
     "ename": "ValueError",
     "evalue": "29 columns passed, passed data had 31 columns",
     "output_type": "error",
     "traceback": [
      "\u001b[1;31m---------------------------------------------------------------------------\u001b[0m",
      "\u001b[1;31mAssertionError\u001b[0m                            Traceback (most recent call last)",
      "\u001b[1;32m~\\Downloads\\New folder\\lib\\site-packages\\pandas\\core\\internals\\construction.py\u001b[0m in \u001b[0;36m_list_to_arrays\u001b[1;34m(data, columns, coerce_float, dtype)\u001b[0m\n\u001b[0;32m    567\u001b[0m     \u001b[1;32mtry\u001b[0m\u001b[1;33m:\u001b[0m\u001b[1;33m\u001b[0m\u001b[1;33m\u001b[0m\u001b[0m\n\u001b[1;32m--> 568\u001b[1;33m         \u001b[0mcolumns\u001b[0m \u001b[1;33m=\u001b[0m \u001b[0m_validate_or_indexify_columns\u001b[0m\u001b[1;33m(\u001b[0m\u001b[0mcontent\u001b[0m\u001b[1;33m,\u001b[0m \u001b[0mcolumns\u001b[0m\u001b[1;33m)\u001b[0m\u001b[1;33m\u001b[0m\u001b[1;33m\u001b[0m\u001b[0m\n\u001b[0m\u001b[0;32m    569\u001b[0m         \u001b[0mresult\u001b[0m \u001b[1;33m=\u001b[0m \u001b[0m_convert_object_array\u001b[0m\u001b[1;33m(\u001b[0m\u001b[0mcontent\u001b[0m\u001b[1;33m,\u001b[0m \u001b[0mdtype\u001b[0m\u001b[1;33m=\u001b[0m\u001b[0mdtype\u001b[0m\u001b[1;33m,\u001b[0m \u001b[0mcoerce_float\u001b[0m\u001b[1;33m=\u001b[0m\u001b[0mcoerce_float\u001b[0m\u001b[1;33m)\u001b[0m\u001b[1;33m\u001b[0m\u001b[1;33m\u001b[0m\u001b[0m\n",
      "\u001b[1;32m~\\Downloads\\New folder\\lib\\site-packages\\pandas\\core\\internals\\construction.py\u001b[0m in \u001b[0;36m_validate_or_indexify_columns\u001b[1;34m(content, columns)\u001b[0m\n\u001b[0;32m    691\u001b[0m             \u001b[1;31m# caller's responsibility to check for this...\u001b[0m\u001b[1;33m\u001b[0m\u001b[1;33m\u001b[0m\u001b[1;33m\u001b[0m\u001b[0m\n\u001b[1;32m--> 692\u001b[1;33m             raise AssertionError(\n\u001b[0m\u001b[0;32m    693\u001b[0m                 \u001b[1;34mf\"{len(columns)} columns passed, passed data had \"\u001b[0m\u001b[1;33m\u001b[0m\u001b[1;33m\u001b[0m\u001b[0m\n",
      "\u001b[1;31mAssertionError\u001b[0m: 29 columns passed, passed data had 31 columns",
      "\nThe above exception was the direct cause of the following exception:\n",
      "\u001b[1;31mValueError\u001b[0m                                Traceback (most recent call last)",
      "\u001b[1;32m<ipython-input-14-9ab72991eca3>\u001b[0m in \u001b[0;36m<module>\u001b[1;34m\u001b[0m\n\u001b[1;32m----> 1\u001b[1;33m \u001b[0mstats\u001b[0m \u001b[1;33m=\u001b[0m \u001b[0mpd\u001b[0m\u001b[1;33m.\u001b[0m\u001b[0mDataFrame\u001b[0m\u001b[1;33m(\u001b[0m\u001b[0mplayer_stats\u001b[0m\u001b[1;33m,\u001b[0m \u001b[0mcolumns\u001b[0m \u001b[1;33m=\u001b[0m \u001b[0mheaders\u001b[0m\u001b[1;33m)\u001b[0m\u001b[1;33m\u001b[0m\u001b[1;33m\u001b[0m\u001b[0m\n\u001b[0m\u001b[0;32m      2\u001b[0m \u001b[0mstats\u001b[0m\u001b[1;33m.\u001b[0m\u001b[0mhead\u001b[0m\u001b[1;33m(\u001b[0m\u001b[1;36m10\u001b[0m\u001b[1;33m)\u001b[0m\u001b[1;33m\u001b[0m\u001b[1;33m\u001b[0m\u001b[0m\n",
      "\u001b[1;32m~\\Downloads\\New folder\\lib\\site-packages\\pandas\\core\\frame.py\u001b[0m in \u001b[0;36m__init__\u001b[1;34m(self, data, index, columns, dtype, copy)\u001b[0m\n\u001b[0;32m    568\u001b[0m                     \u001b[1;32mif\u001b[0m \u001b[0mis_named_tuple\u001b[0m\u001b[1;33m(\u001b[0m\u001b[0mdata\u001b[0m\u001b[1;33m[\u001b[0m\u001b[1;36m0\u001b[0m\u001b[1;33m]\u001b[0m\u001b[1;33m)\u001b[0m \u001b[1;32mand\u001b[0m \u001b[0mcolumns\u001b[0m \u001b[1;32mis\u001b[0m \u001b[1;32mNone\u001b[0m\u001b[1;33m:\u001b[0m\u001b[1;33m\u001b[0m\u001b[1;33m\u001b[0m\u001b[0m\n\u001b[0;32m    569\u001b[0m                         \u001b[0mcolumns\u001b[0m \u001b[1;33m=\u001b[0m \u001b[0mdata\u001b[0m\u001b[1;33m[\u001b[0m\u001b[1;36m0\u001b[0m\u001b[1;33m]\u001b[0m\u001b[1;33m.\u001b[0m\u001b[0m_fields\u001b[0m\u001b[1;33m\u001b[0m\u001b[1;33m\u001b[0m\u001b[0m\n\u001b[1;32m--> 570\u001b[1;33m                     \u001b[0marrays\u001b[0m\u001b[1;33m,\u001b[0m \u001b[0mcolumns\u001b[0m \u001b[1;33m=\u001b[0m \u001b[0mto_arrays\u001b[0m\u001b[1;33m(\u001b[0m\u001b[0mdata\u001b[0m\u001b[1;33m,\u001b[0m \u001b[0mcolumns\u001b[0m\u001b[1;33m,\u001b[0m \u001b[0mdtype\u001b[0m\u001b[1;33m=\u001b[0m\u001b[0mdtype\u001b[0m\u001b[1;33m)\u001b[0m\u001b[1;33m\u001b[0m\u001b[1;33m\u001b[0m\u001b[0m\n\u001b[0m\u001b[0;32m    571\u001b[0m                     \u001b[0mcolumns\u001b[0m \u001b[1;33m=\u001b[0m \u001b[0mensure_index\u001b[0m\u001b[1;33m(\u001b[0m\u001b[0mcolumns\u001b[0m\u001b[1;33m)\u001b[0m\u001b[1;33m\u001b[0m\u001b[1;33m\u001b[0m\u001b[0m\n\u001b[0;32m    572\u001b[0m \u001b[1;33m\u001b[0m\u001b[0m\n",
      "\u001b[1;32m~\\Downloads\\New folder\\lib\\site-packages\\pandas\\core\\internals\\construction.py\u001b[0m in \u001b[0;36mto_arrays\u001b[1;34m(data, columns, coerce_float, dtype)\u001b[0m\n\u001b[0;32m    526\u001b[0m         \u001b[1;32mreturn\u001b[0m \u001b[1;33m[\u001b[0m\u001b[1;33m]\u001b[0m\u001b[1;33m,\u001b[0m \u001b[1;33m[\u001b[0m\u001b[1;33m]\u001b[0m  \u001b[1;31m# columns if columns is not None else []\u001b[0m\u001b[1;33m\u001b[0m\u001b[1;33m\u001b[0m\u001b[0m\n\u001b[0;32m    527\u001b[0m     \u001b[1;32mif\u001b[0m \u001b[0misinstance\u001b[0m\u001b[1;33m(\u001b[0m\u001b[0mdata\u001b[0m\u001b[1;33m[\u001b[0m\u001b[1;36m0\u001b[0m\u001b[1;33m]\u001b[0m\u001b[1;33m,\u001b[0m \u001b[1;33m(\u001b[0m\u001b[0mlist\u001b[0m\u001b[1;33m,\u001b[0m \u001b[0mtuple\u001b[0m\u001b[1;33m)\u001b[0m\u001b[1;33m)\u001b[0m\u001b[1;33m:\u001b[0m\u001b[1;33m\u001b[0m\u001b[1;33m\u001b[0m\u001b[0m\n\u001b[1;32m--> 528\u001b[1;33m         \u001b[1;32mreturn\u001b[0m \u001b[0m_list_to_arrays\u001b[0m\u001b[1;33m(\u001b[0m\u001b[0mdata\u001b[0m\u001b[1;33m,\u001b[0m \u001b[0mcolumns\u001b[0m\u001b[1;33m,\u001b[0m \u001b[0mcoerce_float\u001b[0m\u001b[1;33m=\u001b[0m\u001b[0mcoerce_float\u001b[0m\u001b[1;33m,\u001b[0m \u001b[0mdtype\u001b[0m\u001b[1;33m=\u001b[0m\u001b[0mdtype\u001b[0m\u001b[1;33m)\u001b[0m\u001b[1;33m\u001b[0m\u001b[1;33m\u001b[0m\u001b[0m\n\u001b[0m\u001b[0;32m    529\u001b[0m     \u001b[1;32melif\u001b[0m \u001b[0misinstance\u001b[0m\u001b[1;33m(\u001b[0m\u001b[0mdata\u001b[0m\u001b[1;33m[\u001b[0m\u001b[1;36m0\u001b[0m\u001b[1;33m]\u001b[0m\u001b[1;33m,\u001b[0m \u001b[0mabc\u001b[0m\u001b[1;33m.\u001b[0m\u001b[0mMapping\u001b[0m\u001b[1;33m)\u001b[0m\u001b[1;33m:\u001b[0m\u001b[1;33m\u001b[0m\u001b[1;33m\u001b[0m\u001b[0m\n\u001b[0;32m    530\u001b[0m         return _list_of_dict_to_arrays(\n",
      "\u001b[1;32m~\\Downloads\\New folder\\lib\\site-packages\\pandas\\core\\internals\\construction.py\u001b[0m in \u001b[0;36m_list_to_arrays\u001b[1;34m(data, columns, coerce_float, dtype)\u001b[0m\n\u001b[0;32m    569\u001b[0m         \u001b[0mresult\u001b[0m \u001b[1;33m=\u001b[0m \u001b[0m_convert_object_array\u001b[0m\u001b[1;33m(\u001b[0m\u001b[0mcontent\u001b[0m\u001b[1;33m,\u001b[0m \u001b[0mdtype\u001b[0m\u001b[1;33m=\u001b[0m\u001b[0mdtype\u001b[0m\u001b[1;33m,\u001b[0m \u001b[0mcoerce_float\u001b[0m\u001b[1;33m=\u001b[0m\u001b[0mcoerce_float\u001b[0m\u001b[1;33m)\u001b[0m\u001b[1;33m\u001b[0m\u001b[1;33m\u001b[0m\u001b[0m\n\u001b[0;32m    570\u001b[0m     \u001b[1;32mexcept\u001b[0m \u001b[0mAssertionError\u001b[0m \u001b[1;32mas\u001b[0m \u001b[0me\u001b[0m\u001b[1;33m:\u001b[0m\u001b[1;33m\u001b[0m\u001b[1;33m\u001b[0m\u001b[0m\n\u001b[1;32m--> 571\u001b[1;33m         \u001b[1;32mraise\u001b[0m \u001b[0mValueError\u001b[0m\u001b[1;33m(\u001b[0m\u001b[0me\u001b[0m\u001b[1;33m)\u001b[0m \u001b[1;32mfrom\u001b[0m \u001b[0me\u001b[0m\u001b[1;33m\u001b[0m\u001b[1;33m\u001b[0m\u001b[0m\n\u001b[0m\u001b[0;32m    572\u001b[0m     \u001b[1;32mreturn\u001b[0m \u001b[0mresult\u001b[0m\u001b[1;33m,\u001b[0m \u001b[0mcolumns\u001b[0m\u001b[1;33m\u001b[0m\u001b[1;33m\u001b[0m\u001b[0m\n\u001b[0;32m    573\u001b[0m \u001b[1;33m\u001b[0m\u001b[0m\n",
      "\u001b[1;31mValueError\u001b[0m: 29 columns passed, passed data had 31 columns"
     ]
    }
   ],
   "source": [
    "stats = pd.DataFrame(player_stats, columns = headers)\n",
    "stats.head(10)"
   ]
  },
  {
   "cell_type": "code",
   "execution_count": null,
   "id": "7d042406",
   "metadata": {},
   "outputs": [],
   "source": []
  }
 ],
 "metadata": {
  "kernelspec": {
   "display_name": "Python 3",
   "language": "python",
   "name": "python3"
  },
  "language_info": {
   "codemirror_mode": {
    "name": "ipython",
    "version": 3
   },
   "file_extension": ".py",
   "mimetype": "text/x-python",
   "name": "python",
   "nbconvert_exporter": "python",
   "pygments_lexer": "ipython3",
   "version": "3.8.8"
  }
 },
 "nbformat": 4,
 "nbformat_minor": 5
}
