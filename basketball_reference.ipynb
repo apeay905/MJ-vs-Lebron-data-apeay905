{
 "cells": [
  {
   "cell_type": "code",
   "execution_count": 3,
   "id": "d73dc445",
   "metadata": {},
   "outputs": [],
   "source": [
    "import openpyxl\n",
    "from urllib.request import urlopen\n",
    "from bs4 import BeautifulSoup"
   ]
  },
  {
   "cell_type": "code",
   "execution_count": 46,
   "id": "ef5ceb89",
   "metadata": {},
   "outputs": [],
   "source": [
    "class NBA:\n",
    "    def getHeader(self):\n",
    "        headers = [] # list for storing headers\n",
    "        # use getText() to extract the text we need into a list\n",
    "        for text in self.soup.findAll('tr')[0].findAll('th'):\n",
    "            headers.append(text.getText())\n",
    "        headers = headers[1:]\n",
    "        return headers\n",
    " \n",
    "    def getStats(self):\n",
    "        rowsOfPlayers = self.soup.findAll('tr')[1:]\n",
    "        # creates a 2d list of all the players and their stats\n",
    "        player_stats = [[stats.getText() for stats in rowsOfPlayers[i].findAll('td')] for i in range(len(rowsOfPlayers))]\n",
    "        return player_stats\n",
    " \n",
    "    def statExcel(self):\n",
    "        player = input(\"Enter player name: \")\n",
    "        # URL page we will be scraping\n",
    "        url = 'https://www.basketball-reference.com/players/'.format(player)\n",
    "        # this is the HTML form the given url\n",
    "        html = urlopen(url)\n",
    "        # stores source html code in soup\n",
    "        self.soup = BeautifulSoup(html, 'html.parser')\n",
    "        wb = openpyxl.Workbook()\n",
    "        sheet = wb.active\n",
    "        sheet.title = 'PerGame' + str(player)\n",
    " \n",
    "        i = 1\n",
    "        for header in self.getHeader():\n",
    "            sheet.cell(row=1, column=i).value = header\n",
    "            i += 1\n",
    " \n",
    "        stats_2d_list = self.getStats()\n",
    "        x = 1\n",
    "        for r in stats_2d_list:\n",
    "            y = 1\n",
    "            x += 1\n",
    "            for item in r:\n",
    "                sheet.cell(row= x, column= y).value = item\n",
    "                y += 1\n",
    " \n",
    " \n",
    "        wb.save('nba{}to{}.xlsx'.format(str(int(year) - 1), year))"
   ]
  },
  {
   "cell_type": "code",
   "execution_count": 47,
   "id": "0e949d47",
   "metadata": {},
   "outputs": [],
   "source": [
    "nba_work = NBA()"
   ]
  },
  {
   "cell_type": "code",
   "execution_count": 48,
   "id": "51f2c47a",
   "metadata": {},
   "outputs": [
    {
     "name": "stdout",
     "output_type": "stream",
     "text": [
      "Enter player name: Michael Jordan\n"
     ]
    },
    {
     "ename": "IndexError",
     "evalue": "list index out of range",
     "output_type": "error",
     "traceback": [
      "\u001b[1;31m---------------------------------------------------------------------------\u001b[0m",
      "\u001b[1;31mIndexError\u001b[0m                                Traceback (most recent call last)",
      "\u001b[1;32m<ipython-input-48-85c33e8c4b2f>\u001b[0m in \u001b[0;36m<module>\u001b[1;34m\u001b[0m\n\u001b[1;32m----> 1\u001b[1;33m \u001b[0mnba_work\u001b[0m\u001b[1;33m.\u001b[0m\u001b[0mstatExcel\u001b[0m\u001b[1;33m(\u001b[0m\u001b[1;33m)\u001b[0m\u001b[1;33m\u001b[0m\u001b[1;33m\u001b[0m\u001b[0m\n\u001b[0m",
      "\u001b[1;32m<ipython-input-46-6fa810f06d94>\u001b[0m in \u001b[0;36mstatExcel\u001b[1;34m(self)\u001b[0m\n\u001b[0;32m     27\u001b[0m \u001b[1;33m\u001b[0m\u001b[0m\n\u001b[0;32m     28\u001b[0m         \u001b[0mi\u001b[0m \u001b[1;33m=\u001b[0m \u001b[1;36m1\u001b[0m\u001b[1;33m\u001b[0m\u001b[1;33m\u001b[0m\u001b[0m\n\u001b[1;32m---> 29\u001b[1;33m         \u001b[1;32mfor\u001b[0m \u001b[0mheader\u001b[0m \u001b[1;32min\u001b[0m \u001b[0mself\u001b[0m\u001b[1;33m.\u001b[0m\u001b[0mgetHeader\u001b[0m\u001b[1;33m(\u001b[0m\u001b[1;33m)\u001b[0m\u001b[1;33m:\u001b[0m\u001b[1;33m\u001b[0m\u001b[1;33m\u001b[0m\u001b[0m\n\u001b[0m\u001b[0;32m     30\u001b[0m             \u001b[0msheet\u001b[0m\u001b[1;33m.\u001b[0m\u001b[0mcell\u001b[0m\u001b[1;33m(\u001b[0m\u001b[0mrow\u001b[0m\u001b[1;33m=\u001b[0m\u001b[1;36m1\u001b[0m\u001b[1;33m,\u001b[0m \u001b[0mcolumn\u001b[0m\u001b[1;33m=\u001b[0m\u001b[0mi\u001b[0m\u001b[1;33m)\u001b[0m\u001b[1;33m.\u001b[0m\u001b[0mvalue\u001b[0m \u001b[1;33m=\u001b[0m \u001b[0mheader\u001b[0m\u001b[1;33m\u001b[0m\u001b[1;33m\u001b[0m\u001b[0m\n\u001b[0;32m     31\u001b[0m             \u001b[0mi\u001b[0m \u001b[1;33m+=\u001b[0m \u001b[1;36m1\u001b[0m\u001b[1;33m\u001b[0m\u001b[1;33m\u001b[0m\u001b[0m\n",
      "\u001b[1;32m<ipython-input-46-6fa810f06d94>\u001b[0m in \u001b[0;36mgetHeader\u001b[1;34m(self)\u001b[0m\n\u001b[0;32m      3\u001b[0m         \u001b[0mheaders\u001b[0m \u001b[1;33m=\u001b[0m \u001b[1;33m[\u001b[0m\u001b[1;33m]\u001b[0m \u001b[1;31m# list for storing headers\u001b[0m\u001b[1;33m\u001b[0m\u001b[1;33m\u001b[0m\u001b[0m\n\u001b[0;32m      4\u001b[0m         \u001b[1;31m# use getText() to extract the text we need into a list\u001b[0m\u001b[1;33m\u001b[0m\u001b[1;33m\u001b[0m\u001b[1;33m\u001b[0m\u001b[0m\n\u001b[1;32m----> 5\u001b[1;33m         \u001b[1;32mfor\u001b[0m \u001b[0mtext\u001b[0m \u001b[1;32min\u001b[0m \u001b[0mself\u001b[0m\u001b[1;33m.\u001b[0m\u001b[0msoup\u001b[0m\u001b[1;33m.\u001b[0m\u001b[0mfindAll\u001b[0m\u001b[1;33m(\u001b[0m\u001b[1;34m'tr'\u001b[0m\u001b[1;33m)\u001b[0m\u001b[1;33m[\u001b[0m\u001b[1;36m0\u001b[0m\u001b[1;33m]\u001b[0m\u001b[1;33m.\u001b[0m\u001b[0mfindAll\u001b[0m\u001b[1;33m(\u001b[0m\u001b[1;34m'th'\u001b[0m\u001b[1;33m)\u001b[0m\u001b[1;33m:\u001b[0m\u001b[1;33m\u001b[0m\u001b[1;33m\u001b[0m\u001b[0m\n\u001b[0m\u001b[0;32m      6\u001b[0m             \u001b[0mheaders\u001b[0m\u001b[1;33m.\u001b[0m\u001b[0mappend\u001b[0m\u001b[1;33m(\u001b[0m\u001b[0mtext\u001b[0m\u001b[1;33m.\u001b[0m\u001b[0mgetText\u001b[0m\u001b[1;33m(\u001b[0m\u001b[1;33m)\u001b[0m\u001b[1;33m)\u001b[0m\u001b[1;33m\u001b[0m\u001b[1;33m\u001b[0m\u001b[0m\n\u001b[0;32m      7\u001b[0m         \u001b[0mheaders\u001b[0m \u001b[1;33m=\u001b[0m \u001b[0mheaders\u001b[0m\u001b[1;33m[\u001b[0m\u001b[1;36m1\u001b[0m\u001b[1;33m:\u001b[0m\u001b[1;33m]\u001b[0m\u001b[1;33m\u001b[0m\u001b[1;33m\u001b[0m\u001b[0m\n",
      "\u001b[1;31mIndexError\u001b[0m: list index out of range"
     ]
    }
   ],
   "source": [
    "nba_work.statExcel()"
   ]
  },
  {
   "cell_type": "code",
   "execution_count": null,
   "id": "3ee870df",
   "metadata": {},
   "outputs": [],
   "source": []
  },
  {
   "cell_type": "code",
   "execution_count": null,
   "id": "cfe8488e",
   "metadata": {},
   "outputs": [],
   "source": []
  }
 ],
 "metadata": {
  "kernelspec": {
   "display_name": "Python 3",
   "language": "python",
   "name": "python3"
  },
  "language_info": {
   "codemirror_mode": {
    "name": "ipython",
    "version": 3
   },
   "file_extension": ".py",
   "mimetype": "text/x-python",
   "name": "python",
   "nbconvert_exporter": "python",
   "pygments_lexer": "ipython3",
   "version": "3.8.8"
  }
 },
 "nbformat": 4,
 "nbformat_minor": 5
}
